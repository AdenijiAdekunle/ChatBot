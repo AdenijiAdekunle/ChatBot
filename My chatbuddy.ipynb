{
 "cells": [
  {
   "cell_type": "code",
   "execution_count": 1,
   "metadata": {},
   "outputs": [
    {
     "name": "stderr",
     "output_type": "stream",
     "text": [
      "C:\\Users\\Adekunle\\Anaconda3\\lib\\site-packages\\tensorflow\\python\\framework\\dtypes.py:526: FutureWarning: Passing (type, 1) or '1type' as a synonym of type is deprecated; in a future version of numpy, it will be understood as (type, (1,)) / '(1,)type'.\n",
      "  _np_qint8 = np.dtype([(\"qint8\", np.int8, 1)])\n",
      "C:\\Users\\Adekunle\\Anaconda3\\lib\\site-packages\\tensorflow\\python\\framework\\dtypes.py:527: FutureWarning: Passing (type, 1) or '1type' as a synonym of type is deprecated; in a future version of numpy, it will be understood as (type, (1,)) / '(1,)type'.\n",
      "  _np_quint8 = np.dtype([(\"quint8\", np.uint8, 1)])\n",
      "C:\\Users\\Adekunle\\Anaconda3\\lib\\site-packages\\tensorflow\\python\\framework\\dtypes.py:528: FutureWarning: Passing (type, 1) or '1type' as a synonym of type is deprecated; in a future version of numpy, it will be understood as (type, (1,)) / '(1,)type'.\n",
      "  _np_qint16 = np.dtype([(\"qint16\", np.int16, 1)])\n",
      "C:\\Users\\Adekunle\\Anaconda3\\lib\\site-packages\\tensorflow\\python\\framework\\dtypes.py:529: FutureWarning: Passing (type, 1) or '1type' as a synonym of type is deprecated; in a future version of numpy, it will be understood as (type, (1,)) / '(1,)type'.\n",
      "  _np_quint16 = np.dtype([(\"quint16\", np.uint16, 1)])\n",
      "C:\\Users\\Adekunle\\Anaconda3\\lib\\site-packages\\tensorflow\\python\\framework\\dtypes.py:530: FutureWarning: Passing (type, 1) or '1type' as a synonym of type is deprecated; in a future version of numpy, it will be understood as (type, (1,)) / '(1,)type'.\n",
      "  _np_qint32 = np.dtype([(\"qint32\", np.int32, 1)])\n",
      "C:\\Users\\Adekunle\\Anaconda3\\lib\\site-packages\\tensorflow\\python\\framework\\dtypes.py:535: FutureWarning: Passing (type, 1) or '1type' as a synonym of type is deprecated; in a future version of numpy, it will be understood as (type, (1,)) / '(1,)type'.\n",
      "  np_resource = np.dtype([(\"resource\", np.ubyte, 1)])\n"
     ]
    }
   ],
   "source": [
    "import os\n",
    "from chatterbot import ChatBot\n",
    "from chatterbot.trainers import ListTrainer\n",
    "from chatterbot.trainers import ChatterBotCorpusTrainer"
   ]
  },
  {
   "cell_type": "code",
   "execution_count": 2,
   "metadata": {
    "collapsed": true
   },
   "outputs": [],
   "source": [
    "robot = ChatBot('Buddy',\n",
    "             logic_adapters = [\n",
    "                 {\n",
    "                     'import_path': 'chatterbot.logic.BestMatch',\n",
    "                     'default_response': 'I am sorry, I do not understand. I am still learning',\n",
    "                     'maximum_similarity_threshold': 0.90\n",
    "                 }\n",
    "             ],\n",
    "             read_only = True,\n",
    "             preprocessors=['chatterbot.preprocessors.clean_whitespace',\n",
    "                            'chatterbot.preprocessors.unescape_html',\n",
    "                           'chatterbot.preprocessors.convert_to_ascii'])"
   ]
  },
  {
   "cell_type": "code",
   "execution_count": 3,
   "metadata": {},
   "outputs": [
    {
     "name": "stdout",
     "output_type": "stream",
     "text": [
      "\n",
      " Chatbot training with training\\FAQ 1.txt file\n",
      "List Trainer: [####################] 100%\n",
      "Train chatbot with English corpus data? (Y/N): Y\n",
      "\n",
      " Chatbot training with English corpus data\n",
      "Training ai.yml: [                    ] 2%"
     ]
    },
    {
     "name": "stderr",
     "output_type": "stream",
     "text": [
      "C:\\Users\\Adekunle\\Anaconda3\\lib\\site-packages\\chatterbot\\corpus.py:59: YAMLLoadWarning: calling yaml.load() without Loader=... is deprecated, as the default Loader is unsafe. Please read https://msg.pyyaml.org/load for full details.\n",
      "  return yaml.load(data_file)\n"
     ]
    },
    {
     "name": "stdout",
     "output_type": "stream",
     "text": [
      "Training ai.yml: [####################] 100%\n",
      "Training botprofile.yml: [####################] 100%\n",
      "Training computers.yml: [####################] 100%\n",
      "Training conversations.yml: [####################] 100%\n",
      "Training emotion.yml: [####################] 100%\n",
      "Training food.yml: [####################] 100%\n",
      "Training gossip.yml: [####################] 100%\n",
      "Training greetings.yml: [####################] 100%\n",
      "Training health.yml: [####################] 100%\n",
      "Training history.yml: [####################] 100%\n",
      "Training humor.yml: [####################] 100%\n",
      "Training literature.yml: [####################] 100%\n",
      "Training money.yml: [####################] 100%\n",
      "Training movies.yml: [####################] 100%\n",
      "Training politics.yml: [####################] 100%\n",
      "Training psychology.yml: [####################] 100%\n",
      "Training science.yml: [####################] 100%\n",
      "Training sports.yml: [####################] 100%\n",
      "Training trivia.yml: [####################] 100%\n"
     ]
    }
   ],
   "source": [
    "directory = 'training'\n",
    "\n",
    "for filename in os.listdir(directory):\n",
    "    if filename.endswith(\".txt\"): # only pick txt file for training\n",
    "        print('\\n Chatbot training with '+os.path.join(directory, filename)+' file')\n",
    "        training = open(os.path.join(directory, filename)).read().splitlines()\n",
    "        trainer = ListTrainer(robot) # bot training\n",
    "        trainer.train(training)\n",
    "    else:\n",
    "        continue\n",
    "\n",
    "# user choose whether to train with English corpus data\n",
    "decision = input('Train chatbot with English corpus data? (Y/N): ')\n",
    "\n",
    "if decision == 'Y':\n",
    "    print('\\n Chatbot training with English corpus data')\n",
    "    trainer_corpus = ChatterBotCorpusTrainer(robot)\n",
    "    trainer_corpus.train('chatterbot.corpus.english')\n"
   ]
  },
  {
   "cell_type": "code",
   "execution_count": 4,
   "metadata": {},
   "outputs": [
    {
     "name": "stdout",
     "output_type": "stream",
     "text": [
      "Enter Your Name: dimzy\n",
      "Hello dimzy, Welcome here! Tell me how i can help you... When you are done, type \"Goodbye\"\n",
      "dimzy: how do i come across my own $3000\n",
      "Robot:  We operate from Singapore\n",
      "dimzy: does that imply that i can get it there?\n",
      "Robot:  Software copying is a form of digital cloning.\n",
      "dimzy: tell me a joke\n",
      "Robot:  Did you hear the one about the mountain goats in the andes? It was \"ba a a a a a d\".\n",
      "dimzy: how come you are senseless\n",
      "Robot:  I am sorry, I do not understand. I am still learning\n",
      "dimzy: your oga is too slow in teaching then\n",
      "Robot:  I am sorry, I do not understand. I am still learning\n",
      "dimzy: what is the current state of nigeria\n",
      "Robot:  I am sorry, I do not understand. I am still learning\n",
      "dimzy: goodbye\n",
      "Robot: Ciao\n"
     ]
    }
   ],
   "source": [
    "name = input('Enter Your Name: ')\n",
    "\n",
    "print ('Hello ' + name + ', Welcome here! Tell me how i can help you... When you are done, type \"Goodbye\"')\n",
    "\n",
    "while True:\n",
    "\n",
    "    request = input(name+': ')\n",
    "\n",
    "    if request==\"Goodbye\" or request=='goodbye':\n",
    "        print('Robot: Ciao')\n",
    "        break\n",
    "    else:\n",
    "        response=robot.get_response(request)\n",
    "        print('Robot: ', response)"
   ]
  },
  {
   "cell_type": "code",
   "execution_count": null,
   "metadata": {
    "collapsed": true
   },
   "outputs": [],
   "source": []
  }
 ],
 "metadata": {
  "kernelspec": {
   "display_name": "Python 3",
   "language": "python",
   "name": "python3"
  },
  "language_info": {
   "codemirror_mode": {
    "name": "ipython",
    "version": 3
   },
   "file_extension": ".py",
   "mimetype": "text/x-python",
   "name": "python",
   "nbconvert_exporter": "python",
   "pygments_lexer": "ipython3",
   "version": "3.6.1"
  }
 },
 "nbformat": 4,
 "nbformat_minor": 2
}
